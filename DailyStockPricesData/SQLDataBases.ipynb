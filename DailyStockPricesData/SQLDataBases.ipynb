{
 "cells": [
  {
   "cell_type": "code",
   "execution_count": 3,
   "metadata": {},
   "outputs": [],
   "source": [
    "import sqlite3\n",
    "import pandas as pd\n",
    "\n",
    "# Database file (Creates if it doesn't exist)\n",
    "db_name = \"stocks_data.db\"\n",
    "\n",
    "# Connect to SQLite database\n",
    "conn = sqlite3.connect(db_name)\n",
    "cursor = conn.cursor()\n",
    "\n",
    "# Define table schema with UNIQUE constraint on (ticker, date)\n",
    "create_table_query = \"\"\"\n",
    "CREATE TABLE IF NOT EXISTS daily_stock_prices (\n",
    "    symbol TEXT,\n",
    "    date TEXT,\n",
    "    open REAL,\n",
    "    high REAL,\n",
    "    low REAL,\n",
    "    close REAL,\n",
    "    volume INTEGER,\n",
    "    adjclose REAL,\n",
    "    ticker TEXT,\n",
    "    UNIQUE (ticker, date) -- Ensures unique ticker-date pairs\n",
    ");\n",
    "\"\"\"\n",
    "\n",
    "# Execute the query\n",
    "cursor.execute(create_table_query)\n",
    "conn.commit()\n",
    "\n"
   ]
  },
  {
   "cell_type": "code",
   "execution_count": 1,
   "metadata": {},
   "outputs": [
    {
     "name": "stdout",
     "output_type": "stream",
     "text": [
      "3\n"
     ]
    }
   ],
   "source": [
    "\n",
    "\n",
    "# # Convert to DataFrame\n",
    "# df = pd.DataFrame(data, columns=[\"symbol\", \"date\", \"open\", \"high\", \"low\", \"close\", \"volume\", \"adjclose\", \"ticker\"])\n",
    "\n",
    "# # Insert DataFrame into SQLite database with error handling\n",
    "# try:\n",
    "#     df.to_sql(\"stock_prices\", conn, if_exists=\"append\", index=False)\n",
    "# except Exception as e:\n",
    "#     print(f\"Error inserting data: {e}\")\n",
    "\n",
    "# # Fetch and display inserted data\n",
    "# print(pd.read_sql(\"SELECT * FROM stock_prices\", conn))\n",
    "\n",
    "# # Close connection\n",
    "# conn.close()"
   ]
  },
  {
   "cell_type": "code",
   "execution_count": 5,
   "metadata": {},
   "outputs": [
    {
     "name": "stdout",
     "output_type": "stream",
     "text": [
      "(0, 'symbol', 'TEXT', 0, None, 0)\n",
      "(1, 'date', 'DATE', 0, None, 0)\n",
      "(2, 'open', 'REAL', 0, None, 0)\n",
      "(3, 'high', 'REAL', 0, None, 0)\n",
      "(4, 'low', 'REAL', 0, None, 0)\n",
      "(5, 'close', 'REAL', 0, None, 0)\n",
      "(6, 'volume', 'REAL', 0, None, 0)\n",
      "(7, 'adjclose', 'REAL', 0, None, 0)\n",
      "(8, 'dividends', 'REAL', 0, None, 0)\n",
      "(9, 'ticker', 'TEXT', 0, None, 0)\n",
      "(10, 'splits', 'REAL', 0, None, 0)\n"
     ]
    }
   ],
   "source": [
    "import sqlite3\n",
    "\n",
    "# Connect to SQLite database\n",
    "conn = sqlite3.connect(\"stocks_data.db\")\n",
    "cursor = conn.cursor()\n",
    "\n",
    "# Run PRAGMA to check the table schema\n",
    "cursor.execute(\"PRAGMA table_info(stock_prices);\")\n",
    "\n",
    "# Fetch and print the result\n",
    "columns = cursor.fetchall()\n",
    "for col in columns:\n",
    "    print(col)\n",
    "\n",
    "conn.close()\n"
   ]
  },
  {
   "cell_type": "code",
   "execution_count": 6,
   "metadata": {},
   "outputs": [
    {
     "name": "stdout",
     "output_type": "stream",
     "text": [
      "Table 'company_info' created successfully!\n"
     ]
    }
   ],
   "source": [
    "import sqlite3\n",
    "\n",
    "# Database file (Creates if it doesn't exist)\n",
    "db_name = \"stocks_data.db\"\n",
    "\n",
    "# Connect to SQLite database\n",
    "conn = sqlite3.connect(db_name)\n",
    "cursor = conn.cursor()\n",
    "\n",
    "# Define table schema for company_info\n",
    "create_company_info_table_query = \"\"\"\n",
    "CREATE TABLE IF NOT EXISTS company_info (\n",
    "    country TEXT,\n",
    "    website TEXT,\n",
    "    maxAge INTEGER,\n",
    "    industry TEXT,\n",
    "    sector TEXT,\n",
    "    longBusinessSummary TEXT,\n",
    "    fullTimeEmployees INTEGER,\n",
    "    company_name TEXT,\n",
    "    ticker TEXT UNIQUE -- Ensures unique company records per ticker\n",
    ");\n",
    "\"\"\"\n",
    "\n",
    "# Execute the query\n",
    "cursor.execute(create_company_info_table_query)\n",
    "conn.commit()\n",
    "\n",
    "# Close the connection\n",
    "cursor.close()\n",
    "conn.close()\n",
    "\n",
    "print(\"Table 'company_info' created successfully!\")\n"
   ]
  },
  {
   "cell_type": "code",
   "execution_count": null,
   "metadata": {},
   "outputs": [],
   "source": []
  }
 ],
 "metadata": {
  "kernelspec": {
   "display_name": "Python 3",
   "language": "python",
   "name": "python3"
  },
  "language_info": {
   "codemirror_mode": {
    "name": "ipython",
    "version": 3
   },
   "file_extension": ".py",
   "mimetype": "text/x-python",
   "name": "python",
   "nbconvert_exporter": "python",
   "pygments_lexer": "ipython3",
   "version": "3.12.0"
  },
  "orig_nbformat": 4
 },
 "nbformat": 4,
 "nbformat_minor": 2
}
