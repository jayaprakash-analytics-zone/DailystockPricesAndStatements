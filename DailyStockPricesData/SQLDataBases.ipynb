{
 "cells": [
  {
   "cell_type": "code",
   "execution_count": 6,
   "metadata": {},
   "outputs": [],
   "source": [
    "import sqlite3\n",
    "import pandas as pd\n",
    "\n",
    "# Database file (Creates if it doesn't exist)\n",
    "db_name = \"stocks_data.db\"\n",
    "\n",
    "# Connect to SQLite database\n",
    "conn = sqlite3.connect(db_name)\n",
    "cursor = conn.cursor()\n",
    "\n",
    "# Define table schema with UNIQUE constraint on (ticker, date)\n",
    "create_table_query = \"\"\"\n",
    "CREATE TABLE IF NOT EXISTS daily_stock_prices (\n",
    "    symbol TEXT,\n",
    "    date TEXT,\n",
    "    open REAL,\n",
    "    high REAL,\n",
    "    low REAL,\n",
    "    close REAL,\n",
    "    volume INTEGER,\n",
    "    adjclose REAL,\n",
    "    ticker TEXT,\n",
    "    UNIQUE (ticker, date) -- Ensures unique ticker-date pairs\n",
    ");\n",
    "\"\"\"\n",
    "\n",
    "# Execute the query\n",
    "cursor.execute(create_table_query)\n",
    "conn.commit()\n",
    "\n"
   ]
  },
  {
   "cell_type": "code",
   "execution_count": 1,
   "metadata": {},
   "outputs": [
    {
     "name": "stdout",
     "output_type": "stream",
     "text": [
      "3\n"
     ]
    }
   ],
   "source": [
    "\n",
    "\n",
    "# Convert to DataFrame\n",
    "df = pd.DataFrame(data, columns=[\"symbol\", \"date\", \"open\", \"high\", \"low\", \"close\", \"volume\", \"adjclose\", \"ticker\"])\n",
    "\n",
    "# Insert DataFrame into SQLite database with error handling\n",
    "try:\n",
    "    df.to_sql(\"stock_prices\", conn, if_exists=\"append\", index=False)\n",
    "except Exception as e:\n",
    "    print(f\"Error inserting data: {e}\")\n",
    "\n",
    "# Fetch and display inserted data\n",
    "print(pd.read_sql(\"SELECT * FROM stock_prices\", conn))\n",
    "\n",
    "# Close connection\n",
    "conn.close()"
   ]
  },
  {
   "cell_type": "code",
   "execution_count": 5,
   "metadata": {},
   "outputs": [
    {
     "name": "stdout",
     "output_type": "stream",
     "text": [
      "             symbol        date          open          high           low  \\\n",
      "0         3PLAND.NS  2008-03-11     32.000000     32.150002     31.900000   \n",
      "1         3PLAND.NS  2008-03-12     33.700001     33.799999     33.700001   \n",
      "2         3PLAND.NS  2008-03-13     34.299999     35.299999     33.000000   \n",
      "3         3PLAND.NS  2008-03-14     32.150002     34.099998     31.549999   \n",
      "4         3PLAND.NS  2008-03-17     32.000000     33.950001     31.450001   \n",
      "...             ...         ...           ...           ...           ...   \n",
      "947164  BOSCHLTD.NS  2025-03-12  26650.000000  27030.150391  26400.000000   \n",
      "947165  BOSCHLTD.NS  2025-03-13  26900.000000  27125.000000  26540.000000   \n",
      "947166  BOSCHLTD.NS  2025-03-17  26750.000000  26807.099609  26282.449219   \n",
      "947167  BOSCHLTD.NS  2025-03-18  26379.050781  26759.650391  26210.949219   \n",
      "947168  BOSCHLTD.NS  2025-03-19  26345.849609  26345.849609  26345.849609   \n",
      "\n",
      "               close   volume      adjclose  dividends       ticker  splits  \n",
      "0          32.150002   1196.0     31.924387        0.0    3PLAND.NS     NaN  \n",
      "1          33.799999    550.0     33.562805        0.0    3PLAND.NS     NaN  \n",
      "2          33.099998   3371.0     32.867718        0.0    3PLAND.NS     NaN  \n",
      "3          33.000000   4408.0     32.768421        0.0    3PLAND.NS     NaN  \n",
      "4          33.900002   1241.0     33.662106        0.0    3PLAND.NS     NaN  \n",
      "...              ...      ...           ...        ...          ...     ...  \n",
      "947164  26982.550781  18143.0  26982.550781        0.0  BOSCHLTD.NS     0.0  \n",
      "947165  26807.099609  17579.0  26807.099609        0.0  BOSCHLTD.NS     0.0  \n",
      "947166  26378.349609   8806.0  26378.349609        0.0  BOSCHLTD.NS     0.0  \n",
      "947167  26345.849609  16075.0  26345.849609        0.0  BOSCHLTD.NS     0.0  \n",
      "947168  26345.849609      0.0  26345.849609        0.0  BOSCHLTD.NS     0.0  \n",
      "\n",
      "[947169 rows x 11 columns]\n"
     ]
    }
   ],
   "source": [
    "print(pd.read_sql(\"SELECT * FROM stock_prices\", conn))\n"
   ]
  },
  {
   "cell_type": "code",
   "execution_count": null,
   "metadata": {},
   "outputs": [],
   "source": []
  }
 ],
 "metadata": {
  "kernelspec": {
   "display_name": "Python 3",
   "language": "python",
   "name": "python3"
  },
  "language_info": {
   "codemirror_mode": {
    "name": "ipython",
    "version": 3
   },
   "file_extension": ".py",
   "mimetype": "text/x-python",
   "name": "python",
   "nbconvert_exporter": "python",
   "pygments_lexer": "ipython3",
   "version": "3.12.0"
  },
  "orig_nbformat": 4
 },
 "nbformat": 4,
 "nbformat_minor": 2
}
